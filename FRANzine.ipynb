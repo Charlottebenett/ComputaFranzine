{
 "cells": [
  {
   "cell_type": "markdown",
   "metadata": {},
   "source": [
    "### Fanzine du net \n",
    "#### Qu’est-ce que le clustering ? Les 3 méthodes à connaître\n",
    "Les méthodes hiérarchiques\n",
    "Les méthodes centroïdes\n",
    "Les méthodes à densité\n",
    "#### Vectorisation de texte 👍\n",
    "\n",
    "Transforme les mots d’un texte en vecteur. \n",
    "Attribue un nb a un mot. \n",
    "Ce num augmente si le mot apparaît plusieurs fois dans le texte. \n",
    "Permet ainsi de voir si tout un corpus de plusieurs textes si une classification est possible.  \n",
    "\n",
    "#### Evaluate Topic Models: Latent Dirichlet Allocation (LDA)\n",
    "Let’s take a look at roughly what approaches are commonly used for the evaluation:\n",
    "#### \n",
    "Eye Balling Models\n",
    "Top N words\n",
    "Topics / Documents\n",
    "Intrinsic Evaluation Metrics\n",
    "Capturing model semantics\n",
    "Topics interpretability\n",
    "Human Judgements\n",
    "What is a topic\n",
    "Extrinsic Evaluation Metrics/Evaluation at task\n",
    "Is model good at performing predefined tasks, such as classification\n",
    "Natural language is messy, ambiguous and full of subjective interpretation, and sometimes trying to cleanse ambiguity reduces the language to an unnatural form. In this article, we’ll explore more about topic coherence, an intrinsic evaluation metric, and how you can use it to quantitatively justify the model selection.\n",
    "\n",
    "\n",
    "#### Getting Started with Text Vectorization\n",
    "Text Vectorization is the process of converting text into numerical representation.\n",
    "Binary Term Frequency\n",
    "Bag of Words (BoW) Term Frequency\n",
    "(L1) Normalized Term Frequency\n",
    "(L2) Normalized TF-IDF\n",
    "Word2Vec\n",
    "#### \n",
    "target name = le nom de chaque target\n",
    "#### \n",
    "target = numéro de target\n",
    "\n"
   ]
  },
  {
   "cell_type": "markdown",
   "metadata": {
    "vscode": {
     "languageId": "plaintext"
    }
   },
   "source": [
    "### How to generate music with Python: The Basics"
   ]
  },
  {
   "cell_type": "markdown",
   "metadata": {},
   "source": [
    "Tonal harmony rules are not really rules, they are guidelines and formulas to create certain sounds. The only real rule in music is if it sounds good, it is good. So, let’s start with some music basics."
   ]
  },
  {
   "cell_type": "markdown",
   "metadata": {},
   "source": [
    "SCALE: A music scale is a collections of notes that all sound ‘correct’ together. It’s the music equivalent of a visual color palette. If you are designing a website you might limit the colors to: dark blue, light blue, crimson & white. Just because you use one of those colors does not necessarily mean it’s going to look good, but at least it will be on theme "
   ]
  },
  {
   "cell_type": "markdown",
   "metadata": {},
   "source": [
    "CHORD: A chord is three or more notes played at the same time. In fact if you don’t even push any notes on the fretboard and strum all the strings you are playing a chord. Maybe not a pleasant one, but a chord nonetheless."
   ]
  },
  {
   "cell_type": "markdown",
   "metadata": {},
   "source": [
    "ARPEGGIO: An arpeggio is pretty much the same as a chord but the notes are played in sequence opposed to playing them concurrently."
   ]
  },
  {
   "cell_type": "markdown",
   "metadata": {},
   "source": [
    "BASSLINE: Basslines are low notes which usually follow the chord tones. In fact the majority of basslines just play the root note of the chord. So, if the chord in question is C major7, then the root note would be a C. Many effective basslines are simply root notes. However does not have to be the case. It’s not uncommon in some styles of music (funk or jazz) to have bassline be even more complex than the other instrument ranges."
   ]
  },
  {
   "cell_type": "markdown",
   "metadata": {},
   "source": [
    "CHORD PROGRESSION: A chord progression is a sequence of chords. For example, a simple tune might have a chord sequence like C to C to F than G, and then repeat. We’ll use this progression for the examples throughout the rest of the tutorial."
   ]
  },
  {
   "cell_type": "markdown",
   "metadata": {},
   "source": [
    "MELODY: Melodies are sequences of aesthetically pleasing notes which harmonize with the underlying chord progression. Melody generation is a very advanced topic and beyond the scope of this tutorial."
   ]
  }
 ],
 "metadata": {
  "kernelspec": {
   "display_name": "base",
   "language": "python",
   "name": "python3"
  },
  "language_info": {
   "name": "python",
   "version": "3.11.4"
  }
 },
 "nbformat": 4,
 "nbformat_minor": 2
}
